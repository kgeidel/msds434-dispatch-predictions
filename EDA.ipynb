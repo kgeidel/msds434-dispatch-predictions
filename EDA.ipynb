{
 "cells": [
  {
   "cell_type": "code",
   "execution_count": 12,
   "metadata": {},
   "outputs": [],
   "source": [
    "# MSDS 434 - Section 55\n",
    "# Winter '25\n",
    "# dispatch-predictions - EDA\n",
    "\n",
    "# Kevin Geidel\n",
    "\n",
    "from matplotlib import pyplot as plt\n",
    "import pandas as pd\n",
    "pd.set_option('display.max_rows', 500)"
   ]
  },
  {
   "cell_type": "code",
   "execution_count": null,
   "metadata": {},
   "outputs": [],
   "source": [
    "file_path = 'data/2025_01_14_hfd_incident_log.xls'\n",
    "\n",
    "df = pd.read_excel(file_path, parse_dates=[['Date', 'Alarm']])\n",
    "\n",
    "df.head()  # Raw data frame"
   ]
  },
  {
   "cell_type": "code",
   "execution_count": null,
   "metadata": {},
   "outputs": [],
   "source": [
    "# stats on the raw dataframe\n",
    "df.info()"
   ]
  },
  {
   "cell_type": "code",
   "execution_count": null,
   "metadata": {},
   "outputs": [],
   "source": [
    "# 689 records (16172 - 15483) don't have dates, incident #s or times.\n",
    "# This looks like a issue with exporting certain call types \n",
    "# (maybe there was a newline char in the text?)\n",
    "# drop records w/o dates\n",
    "\n",
    "df = df.dropna(subset=['Incident#'])\n",
    "\n",
    "# Coax cols into proper dtypes\n",
    "df['FDID'] = df['FDID'].astype(str)\n",
    "df['Date_Alarm'] = df['Date_Alarm'].astype('datetime64[s]')\n",
    "\n",
    "# Repair the broken Type\n",
    "broken_type = 'Unintentional system/detector operation (no '\n",
    "df.loc[df['Type']==broken_type, 'Type'] = broken_type + 'fire)'\n",
    "\n",
    "# re-check breakdown of rows/cols\n",
    "df.info()"
   ]
  },
  {
   "cell_type": "code",
   "execution_count": null,
   "metadata": {},
   "outputs": [],
   "source": [
    "# Visualize the data\n",
    "\n",
    "# Group by date\n",
    "calls_per_day = df['Date_Alarm'].groupby([df['Date_Alarm'].dt.date]).count()\n",
    "\n",
    "calls_per_day.plot.line()\n",
    "plt.title(\"Calls per day\")\n",
    "plt.ylabel(\"Number of incidents\")\n",
    "plt.show()"
   ]
  },
  {
   "cell_type": "code",
   "execution_count": null,
   "metadata": {},
   "outputs": [],
   "source": [
    "# view the distribution of calls per day\n",
    "\n",
    "plt.boxplot(calls_per_day, orientation='horizontal');\n",
    "plt.title(\"Distribution of daily calls\")\n",
    "plt.yticks([]);"
   ]
  },
  {
   "cell_type": "code",
   "execution_count": null,
   "metadata": {},
   "outputs": [],
   "source": [
    "# Try again by week\n",
    "\n",
    "calls_per_week = df[['Date_Alarm', 'Incident#']].groupby([pd.Grouper(key='Date_Alarm', freq='W')]).count()\n",
    "\n",
    "calls_per_week.plot.line()\n",
    "plt.title(\"Calls per week\")\n",
    "plt.ylabel(\"Number of incidents\")\n",
    "plt.show()"
   ]
  },
  {
   "cell_type": "code",
   "execution_count": null,
   "metadata": {},
   "outputs": [],
   "source": [
    "plt.boxplot(calls_per_week, orientation='horizontal');\n",
    "plt.title(\"Distribution of weekly calls\")\n",
    "plt.yticks([]);"
   ]
  }
 ],
 "metadata": {
  "kernelspec": {
   "display_name": "msds434",
   "language": "python",
   "name": "python3"
  },
  "language_info": {
   "codemirror_mode": {
    "name": "ipython",
    "version": 3
   },
   "file_extension": ".py",
   "mimetype": "text/x-python",
   "name": "python",
   "nbconvert_exporter": "python",
   "pygments_lexer": "ipython3",
   "version": "3.12.6"
  }
 },
 "nbformat": 4,
 "nbformat_minor": 2
}
