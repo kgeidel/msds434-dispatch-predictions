{
 "cells": [
  {
   "cell_type": "markdown",
   "metadata": {},
   "source": [
    "### ETL back data from RedAlert xlsx export"
   ]
  },
  {
   "cell_type": "code",
   "execution_count": 1,
   "metadata": {},
   "outputs": [],
   "source": [
    "# Python imports\n",
    "import os\n",
    "\n",
    "# Django imports\n",
    "from django.utils import timezone\n",
    "import datetime as dt\n",
    "\n",
    "# 3rd party imports\n",
    "from tqdm import tqdm\n",
    "import pandas as pd\n",
    "pd.set_option('display.max_rows', 500)\n",
    "\n",
    "# Intraproject imports\n",
    "import django_init\n",
    "from django.conf import settings\n",
    "from calls.models import Incident, DISP"
   ]
  },
  {
   "cell_type": "code",
   "execution_count": 2,
   "metadata": {},
   "outputs": [
    {
     "data": {
      "text/html": [
       "<div>\n",
       "<style scoped>\n",
       "    .dataframe tbody tr th:only-of-type {\n",
       "        vertical-align: middle;\n",
       "    }\n",
       "\n",
       "    .dataframe tbody tr th {\n",
       "        vertical-align: top;\n",
       "    }\n",
       "\n",
       "    .dataframe thead th {\n",
       "        text-align: right;\n",
       "    }\n",
       "</style>\n",
       "<table border=\"1\" class=\"dataframe\">\n",
       "  <thead>\n",
       "    <tr style=\"text-align: right;\">\n",
       "      <th></th>\n",
       "      <th>Date_Alarm</th>\n",
       "      <th>FDID</th>\n",
       "      <th>Incident#</th>\n",
       "      <th>Num</th>\n",
       "      <th>Address</th>\n",
       "      <th>Suite</th>\n",
       "      <th>Zip</th>\n",
       "      <th>Type</th>\n",
       "      <th>Lgth</th>\n",
       "    </tr>\n",
       "  </thead>\n",
       "  <tbody>\n",
       "    <tr>\n",
       "      <th>0</th>\n",
       "      <td>2000-01-02 13:41:00</td>\n",
       "      <td>14013.0</td>\n",
       "      <td>2000-000001</td>\n",
       "      <td>10</td>\n",
       "      <td>BARBARA LA.</td>\n",
       "      <td></td>\n",
       "      <td>12590</td>\n",
       "      <td>Natural vegetation fire</td>\n",
       "      <td>0.0</td>\n",
       "    </tr>\n",
       "    <tr>\n",
       "      <th>1</th>\n",
       "      <td>2000-01-04 12:30:00</td>\n",
       "      <td>14013.0</td>\n",
       "      <td>2000-000002</td>\n",
       "      <td>2015</td>\n",
       "      <td>ROUTE 9 - UNIT 16</td>\n",
       "      <td></td>\n",
       "      <td>12590</td>\n",
       "      <td>Emergency medical service (EMS) Incident</td>\n",
       "      <td>0.5</td>\n",
       "    </tr>\n",
       "    <tr>\n",
       "      <th>2</th>\n",
       "      <td>2000-01-04 12:36:00</td>\n",
       "      <td>14013.0</td>\n",
       "      <td>2000-000003</td>\n",
       "      <td>52</td>\n",
       "      <td>OSBORNE HILL RD.</td>\n",
       "      <td></td>\n",
       "      <td>12590</td>\n",
       "      <td>Emergency medical service (EMS) Incident</td>\n",
       "      <td>0.7</td>\n",
       "    </tr>\n",
       "    <tr>\n",
       "      <th>3</th>\n",
       "      <td>2000-01-05 22:13:00</td>\n",
       "      <td>14013.0</td>\n",
       "      <td>2000-000004</td>\n",
       "      <td>NaN</td>\n",
       "      <td>NEW HAMBURG RD. @ WHEELER</td>\n",
       "      <td></td>\n",
       "      <td>12590</td>\n",
       "      <td>Service call, other</td>\n",
       "      <td>1.0</td>\n",
       "    </tr>\n",
       "  </tbody>\n",
       "</table>\n",
       "</div>"
      ],
      "text/plain": [
       "           Date_Alarm     FDID    Incident#   Num                     Address  \\\n",
       "0 2000-01-02 13:41:00  14013.0  2000-000001    10                 BARBARA LA.   \n",
       "1 2000-01-04 12:30:00  14013.0  2000-000002  2015           ROUTE 9 - UNIT 16   \n",
       "2 2000-01-04 12:36:00  14013.0  2000-000003    52            OSBORNE HILL RD.   \n",
       "3 2000-01-05 22:13:00  14013.0  2000-000004   NaN  NEW HAMBURG RD. @ WHEELER    \n",
       "\n",
       "        Suite    Zip                                      Type  Lgth  \n",
       "0              12590                   Natural vegetation fire   0.0  \n",
       "1              12590  Emergency medical service (EMS) Incident   0.5  \n",
       "2              12590  Emergency medical service (EMS) Incident   0.7  \n",
       "3              12590                       Service call, other   1.0  "
      ]
     },
     "execution_count": 2,
     "metadata": {},
     "output_type": "execute_result"
    }
   ],
   "source": [
    "# load into pandas dataframe with proper cleaning & transforming\n",
    "input_path = os.path.join(\n",
    "    settings.BASE_DIR.parent, \n",
    "    'data', '2025_01_14_hfd_incident_log.xls',\n",
    ")\n",
    "\n",
    "df = pd.read_excel(input_path, parse_dates=[['Date', 'Alarm']])\n",
    "df = df.dropna(subset=['Incident#'])\n",
    "df['FDID'] = df['FDID'].astype(str)\n",
    "df['Date_Alarm'] = df['Date_Alarm'].astype('datetime64[s]')\n",
    "broken_type = 'Unintentional system/detector operation (no '\n",
    "df.loc[df['Type']==broken_type, 'Type'] = broken_type + 'fire)'\n",
    "\n",
    "df.head(4)"
   ]
  },
  {
   "cell_type": "code",
   "execution_count": 3,
   "metadata": {},
   "outputs": [
    {
     "name": "stderr",
     "output_type": "stream",
     "text": [
      "15483it [00:24, 629.79it/s]\n"
     ]
    }
   ],
   "source": [
    "# load into database\n",
    "\n",
    "for index, record in tqdm(df.iterrows()):\n",
    "    Incident.objects.get_or_create(\n",
    "        num = str(record['Incident#']).strip(),\n",
    "        defaults = dict(\n",
    "            fd_id = str(record['FDID']).strip('.0'),\n",
    "            dtg_alarm = record['Date_Alarm'].to_pydatetime().astimezone(settings.TIME_ZONE_OBJ),\n",
    "            street_number = str(record['Num']).strip() if pd.notna(record['Num']) else None,\n",
    "            route = str(record['Address']).strip() if pd.notna(record['Address']) else None,\n",
    "            suite = str(record['Suite']).strip() if pd.notna(record['Suite']) else None,\n",
    "            postal_code = str(record['Zip']).replace('-', '').strip()[:5] if pd.notna(record['Zip']) else None,\n",
    "            disp = DISP.objects.get_or_create(type_str=str(record['Type']).strip())[0] if pd.notna(record['Type']) else None,\n",
    "            duration = record['Lgth'] if pd.notna(record['Lgth']) else None,\n",
    "        )\n",
    "    )"
   ]
  }
 ],
 "metadata": {
  "kernelspec": {
   "display_name": "msds434",
   "language": "python",
   "name": "python3"
  },
  "language_info": {
   "codemirror_mode": {
    "name": "ipython",
    "version": 3
   },
   "file_extension": ".py",
   "mimetype": "text/x-python",
   "name": "python",
   "nbconvert_exporter": "python",
   "pygments_lexer": "ipython3",
   "version": "3.12.6"
  }
 },
 "nbformat": 4,
 "nbformat_minor": 2
}
